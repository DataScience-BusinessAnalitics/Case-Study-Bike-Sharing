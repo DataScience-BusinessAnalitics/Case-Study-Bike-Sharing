{
  "cells": [
    {
      "cell_type": "markdown",
      "metadata": {
        "id": "RTS_iP-pojY7"
      },
      "source": [
        "<center><p float=\"center\">\n",
        "  <img src=\"https://upload.wikimedia.org/wikipedia/commons/e/e9/4_RGB_McCombs_School_Brand_Branded.png\" width=\"300\" height=\"100\"/>\n",
        "  <img src=\"https://mma.prnewswire.com/media/1458111/Great_Learning_Logo.jpg?p=facebook\" width=\"200\" height=\"100\"/>\n",
        "</p></center>\n",
        "\n",
        "<h1><center><font size=10>Data Science and Business Analytics</center></font></h1>\n",
        "<h1><center>Ensemble Techniques: Boosting - Week 2</center></h1>\n"
      ]
    },
    {
      "cell_type": "markdown",
      "metadata": {
        "id": "XHLo2PjNonm5"
      },
      "source": [
        "<center><img src=\"https://images.pexels.com/photos/6280594/pexels-photo-6280594.jpeg?auto=compress&cs=tinysrgb&w=1260&h=750&dpr=2\" width=\"800\" height=\"500\"></center>\n",
        "\n",
        "<b><h2><center>Bike Sharing Case Study</center></h2></b>"
      ]
    },
    {
      "cell_type": "markdown",
      "metadata": {
        "id": "oYJ7QaVxpZ3z"
      },
      "source": [
        "## Problem Statement"
      ]
    },
    {
      "cell_type": "markdown",
      "metadata": {
        "id": "RJNKo6Wjpke5"
      },
      "source": [
        "### Context:\n",
        "\n",
        "Bike-sharing systems are a new generation of traditional bike rentals where the whole process from membership, rental and return has become automatic. Through these systems, the user can easily rent a bike from a particular position and return to another position. Currently, there are about over 500 bike-sharing programs around the world which are composed of over 500 thousand bicycles. Today, there exists a great interest in these systems due to their important role in traffic, environmental, and health issues.\n",
        "\n",
        "\n",
        "### Objective:\n",
        "'Travel Along' is a new bike-sharing company and wants to expand its customer count and provide better services at a reasonable cost. They have conducted several surveys and collated the data about weather, weekends, holidays, etc. from the past 2 years.\n",
        "\n",
        "As a recently hired data scientist at 'Travel Along', you have been asked to analyze the patterns in the data and figure out the key areas which can help the organization to grow and manage the customer demands. Further, you need to use this information to predict the count of bikes shared so that the company can take prior decisions for surge hours.\n",
        "- What are the different factors which affect the target variable? What business recommendations can we give based on the analysis?\n",
        "- How can we use different ensemble techniques - Bagging, Boosting, and Stacking to build a model to predict the count of bikes rented?\n",
        "\n",
        "### Data Description:\n",
        "\n",
        "The bike-sharing rental process is highly correlated to the environmental and seasonal settings. For instance, weather conditions, precipitation, the day of week, season, the hour of the day, etc. can affect the rental behaviors.\n",
        "\n",
        "- instant: record index\n",
        "- dteday : date\n",
        "- season : season (1:spring, 2:summer, 3:fall, 4:winter)\n",
        "- yr : year (0: 2011, 1:2012)\n",
        "- mnth : month ( 1 to 12)\n",
        "- hr : hour (0 to 23)\n",
        "- holiday : whether the day is holiday or not\n",
        "- weekday : day of the week\n",
        "- workingday : if day is neither weekend nor holiday then 1, otherwise is 0.\n",
        "- weathersit :\n",
        "\t- 1: Clear, Few clouds, Partly cloudy\n",
        "\t- 2: Mist + Cloudy, Mist + Broken clouds, Mist + Few clouds, Mist\n",
        "\t- 3: Light Snow, Light Rain + Thunderstorm + Scattered clouds, Light Rain + Scattered clouds\n",
        "\t- 4: Heavy Rain + Ice Pallets + Thunderstorm + Mist, Snow + Fog\n",
        "- temp : Normalized temperature in Celsius. The values are divided by 41 (max)\n",
        "- atemp: Normalized feeling temperature in Celsius. The values are divided to 50 (max). The “feel like” temperature relies on environmental data including the ambient air temperature, relative humidity, and wind speed to determine how weather conditions feel to bare skin.\n",
        "- hum: Normalized humidity. The values are divided by 100 (max)\n",
        "- windspeed: Normalized wind speed. The values are divided by 67 (max)\n",
        "- casual: count of casual users\n",
        "- registered: count of registered users\n",
        "- cnt: count of total rental bikes including both casual and registered"
      ]
    },
    {
      "cell_type": "markdown",
      "metadata": {
        "id": "SyFLAFFxpke7"
      },
      "source": [
        "## Importing necessary libraries"
      ]
    },
    {
      "cell_type": "markdown",
      "metadata": {
        "id": "V4OKDXvSpke7"
      },
      "source": [
        "**Let's start by importing libraries we need.**"
      ]
    },
    {
      "cell_type": "code",
      "execution_count": null,
      "metadata": {
        "id": "cRBN2iFBpke7"
      },
      "outputs": [],
      "source": [
        "import warnings\n",
        "warnings.filterwarnings(\"ignore\")\n",
        "\n",
        "import numpy as np\n",
        "import pandas as pd\n",
        "\n",
        "import seaborn as sns\n",
        "import matplotlib.pyplot as plt\n",
        "\n",
        "from sklearn.tree import DecisionTreeRegressor\n",
        "from sklearn.ensemble import BaggingRegressor,RandomForestRegressor, GradientBoostingRegressor, AdaBoostRegressor, StackingRegressor\n",
        "from xgboost import XGBRegressor\n",
        "from sklearn import metrics\n",
        "from sklearn.model_selection import GridSearchCV, train_test_split"
      ]
    },
    {
      "cell_type": "markdown",
      "metadata": {
        "id": "cF6jj7mGqDcV"
      },
      "source": [
        "## Reading the dataset"
      ]
    },
    {
      "cell_type": "code",
      "execution_count": null,
      "metadata": {
        "id": "FqbyHCwqpke8"
      },
      "outputs": [],
      "source": [
        "#Loading dataset\n",
        "data=pd.read_csv(\"hour.csv\")"
      ]
    },
    {
      "cell_type": "markdown",
      "metadata": {
        "id": "lnYU6n7wqFvh"
      },
      "source": [
        "## Overview of the dataset"
      ]
    },
    {
      "cell_type": "markdown",
      "metadata": {
        "id": "33mgCPVfpke8"
      },
      "source": [
        "### View the first 5 rows of the dataset"
      ]
    },
    {
      "cell_type": "code",
      "execution_count": null,
      "metadata": {
        "colab": {
          "base_uri": "https://localhost:8080/",
          "height": 0
        },
        "id": "m3KFUbl3pke9",
        "outputId": "ad172654-c715-4db9-d007-04ac2eb9b905"
      },
      "outputs": [],
      "source": [
        "data.head()"
      ]
    },
    {
      "cell_type": "markdown",
      "metadata": {
        "id": "AWcPTI1zpke-"
      },
      "source": [
        "### Check data types and number of non-null values for each column"
      ]
    },
    {
      "cell_type": "code",
      "execution_count": null,
      "metadata": {
        "colab": {
          "base_uri": "https://localhost:8080/"
        },
        "id": "6Mlybvw3pke-",
        "outputId": "c2e05e17-23ad-4c63-e9d7-04c1f80fb00a"
      },
      "outputs": [],
      "source": [
        "data.info()"
      ]
    },
    {
      "cell_type": "markdown",
      "metadata": {
        "id": "y-GlFrfOpke-"
      },
      "source": [
        "- We can see that there are total of 17 columns and 17,379 rows in the dataset.\n",
        "- All columns' data type is either integer or float except one column - 'dteday' which is of the object type.\n",
        "- The number of non-null values of each column is equal to the number of total rows in the dataset i.e. no null value. We can further confirm this using `isna()` method."
      ]
    },
    {
      "cell_type": "code",
      "execution_count": null,
      "metadata": {
        "colab": {
          "base_uri": "https://localhost:8080/"
        },
        "id": "_hekXjBVpke_",
        "outputId": "12126191-a07b-4a84-e52f-ea98ca785f42"
      },
      "outputs": [],
      "source": [
        "data.isna().sum()"
      ]
    },
    {
      "cell_type": "markdown",
      "metadata": {
        "id": "EhMHyyhnpke_"
      },
      "source": [
        "- There are no missing values in the data."
      ]
    },
    {
      "cell_type": "markdown",
      "metadata": {
        "id": "mtdoj0-gpke_"
      },
      "source": [
        "### Summary of the dataset"
      ]
    },
    {
      "cell_type": "code",
      "execution_count": null,
      "metadata": {
        "colab": {
          "base_uri": "https://localhost:8080/",
          "height": 0
        },
        "id": "p6LcCvEQpke_",
        "outputId": "b00958b1-f38a-49d0-9772-de270fab0467"
      },
      "outputs": [],
      "source": [
        "# Summary of continuous columns\n",
        "data[['temp','atemp','hum','windspeed','cnt']].describe().T"
      ]
    },
    {
      "cell_type": "markdown",
      "metadata": {
        "id": "4aZ2AQ-gpkfA"
      },
      "source": [
        "- The mean and median value of temperature is approx 0.50\n",
        "- The mean and median value for 'atemp' is approx 0.47 and 0.48 respectively\n",
        "- The mean and median value for 'hum' is approx 0.627 and 0.63 respectively\n",
        "- Wind speed has some extreme values at the right end\n",
        "- The target variable seems to have skewed distribution as higher values are on the right. We will explore this further."
      ]
    },
    {
      "cell_type": "markdown",
      "metadata": {
        "id": "LvFsGRBNpkfA"
      },
      "source": [
        "### Number of unique values in each column"
      ]
    },
    {
      "cell_type": "code",
      "execution_count": null,
      "metadata": {
        "colab": {
          "base_uri": "https://localhost:8080/"
        },
        "id": "z7JIp2ilpkfA",
        "outputId": "86b37243-36c1-404f-ba24-0163962324eb"
      },
      "outputs": [],
      "source": [
        "data.nunique()"
      ]
    },
    {
      "cell_type": "markdown",
      "metadata": {
        "id": "svngQ-L6pkfB"
      },
      "source": [
        "- We can drop 'instant' column as it is an ID variable and will not add value to the model.\n",
        "- We can drop 'dteday' column as it just contains dates of 731 days i.e. 2 years. This will not add value to the model."
      ]
    },
    {
      "cell_type": "code",
      "execution_count": null,
      "metadata": {
        "id": "5IuGhIj6pkfB"
      },
      "outputs": [],
      "source": [
        "#Dropping two columns from the dataframe\n",
        "data.drop(columns=['instant','dteday'], inplace=True)"
      ]
    },
    {
      "cell_type": "markdown",
      "metadata": {
        "id": "PLMM9tuXpkfB"
      },
      "source": [
        "### Number of observations in each category"
      ]
    },
    {
      "cell_type": "code",
      "execution_count": null,
      "metadata": {
        "colab": {
          "base_uri": "https://localhost:8080/"
        },
        "id": "cIWSusE2pkfB",
        "outputId": "c1800606-9035-4a06-be78-23aa4295b9ca",
        "scrolled": false
      },
      "outputs": [],
      "source": [
        "cat_cols=['season','yr','holiday','workingday','weathersit']\n",
        "\n",
        "for column in cat_cols:\n",
        "    print(data[column].value_counts())\n",
        "    print('-'*30)"
      ]
    },
    {
      "cell_type": "markdown",
      "metadata": {
        "id": "Ze9rqI3WpkfC"
      },
      "source": [
        "- The number of observations from year 0 i.e. 2011 is slightly more than the number of observations from year 1 i.e. 2012.\n",
        "- As expected, the number of non-holidays and working days are much higher than the number of holidays and non-working days respectively.\n",
        "- We have only 3 observations where weathersit=4 and most common is 1 i.e. clear or partly cloudy."
      ]
    },
    {
      "cell_type": "code",
      "execution_count": null,
      "metadata": {
        "id": "sKBGQ71uuZ17"
      },
      "outputs": [],
      "source": [
        "df = data.copy()"
      ]
    },
    {
      "cell_type": "markdown",
      "metadata": {
        "id": "oUTSkXOZpkfC"
      },
      "source": [
        "## <a name='link2'>Exploratory Data Analysis (EDA) Summary</a>"
      ]
    },
    {
      "cell_type": "markdown",
      "metadata": {
        "id": "ptvrb3uIqXJC"
      },
      "source": [
        "### **Note**: The EDA section has been covered multiple times in the previous case studies. In this case study, we will mainly focus on the model building aspects. We will only be looking at the key observations from EDA. The detailed EDA can be found in the <a href = #link1>appendix section</a>."
      ]
    },
    {
      "cell_type": "markdown",
      "metadata": {
        "id": "6AUxpCDgqduR"
      },
      "source": [
        "**The below functions need to be defined to carry out the EDA.**"
      ]
    },
    {
      "cell_type": "code",
      "execution_count": null,
      "metadata": {
        "id": "QGb5rv3UpkfD"
      },
      "outputs": [],
      "source": [
        "def histogram_boxplot(data, feature, figsize=(15, 10), kde=False, bins=None):\n",
        "    \"\"\"\n",
        "    Boxplot and histogram combined\n",
        "\n",
        "    data: dataframe\n",
        "    feature: dataframe column\n",
        "    figsize: size of figure (default (15,10))\n",
        "    kde: whether to show the density curve (default False)\n",
        "    bins: number of bins for histogram (default None)\n",
        "    \"\"\"\n",
        "    f2, (ax_box2, ax_hist2) = plt.subplots(\n",
        "        nrows=2,  # Number of rows of the subplot grid= 2\n",
        "        sharex=True,  # x-axis will be shared among all subplots\n",
        "        gridspec_kw={\"height_ratios\": (0.25, 0.75)},\n",
        "        figsize=figsize,\n",
        "    )  # creating the 2 subplots\n",
        "    sns.boxplot(\n",
        "        data=data, x=feature, ax=ax_box2, showmeans=True, color=\"violet\"\n",
        "    )  # boxplot will be created and a triangle will indicate the mean value of the column\n",
        "    sns.histplot(\n",
        "        data=data, x=feature, kde=kde, ax=ax_hist2, bins=bins\n",
        "    ) if bins else sns.histplot(\n",
        "        data=data, x=feature, kde=kde, ax=ax_hist2\n",
        "    )  # For histogram\n",
        "    ax_hist2.axvline(\n",
        "        data[feature].mean(), color=\"green\", linestyle=\"--\"\n",
        "    )  # Add mean to the histogram\n",
        "    ax_hist2.axvline(\n",
        "        data[feature].median(), color=\"black\", linestyle=\"-\"\n",
        "    )  # Add median to the histogram"
      ]
    },
    {
      "cell_type": "code",
      "execution_count": null,
      "metadata": {
        "id": "wfxXQ1Ghq0GS"
      },
      "outputs": [],
      "source": [
        "# function to create labeled barplots\n",
        "\n",
        "\n",
        "def labeled_barplot(data, feature, perc=False, n=None):\n",
        "    \"\"\"\n",
        "    Barplot with percentage at the top\n",
        "\n",
        "    data: dataframe\n",
        "    feature: dataframe column\n",
        "    perc: whether to display percentages instead of count (default is False)\n",
        "    n: displays the top n category levels (default is None, i.e., display all levels)\n",
        "    \"\"\"\n",
        "\n",
        "    total = len(data[feature])  # length of the column\n",
        "    count = data[feature].nunique()\n",
        "    if n is None:\n",
        "        plt.figure(figsize=(count + 2, 6))\n",
        "    else:\n",
        "        plt.figure(figsize=(n + 2, 6))\n",
        "\n",
        "    plt.xticks(rotation=90, fontsize=15)\n",
        "    ax = sns.countplot(\n",
        "        data=data,\n",
        "        x=feature,\n",
        "        palette=\"Paired\",\n",
        "        order=data[feature].value_counts().index[:n],\n",
        "    )\n",
        "\n",
        "    for p in ax.patches:\n",
        "        if perc == True:\n",
        "            label = \"{:.1f}%\".format(\n",
        "                100 * p.get_height() / total\n",
        "            )  # percentage of each class of the category\n",
        "        else:\n",
        "            label = p.get_height()  # count of each level of the category\n",
        "\n",
        "        x = p.get_x() + p.get_width() / 2  # width of the plot\n",
        "        y = p.get_height()  # height of the plot\n",
        "\n",
        "        ax.annotate(\n",
        "            label,\n",
        "            (x, y),\n",
        "            ha=\"center\",\n",
        "            va=\"center\",\n",
        "            size=12,\n",
        "            xytext=(0, 5),\n",
        "            textcoords=\"offset points\",\n",
        "        )  # annotate the percentage\n",
        "\n",
        "    plt.show()  # show the plot"
      ]
    },
    {
      "cell_type": "markdown",
      "metadata": {
        "id": "CHr021zhpkfD"
      },
      "source": [
        "### Univariate analysis"
      ]
    },
    {
      "cell_type": "code",
      "execution_count": null,
      "metadata": {
        "colab": {
          "base_uri": "https://localhost:8080/",
          "height": 0
        },
        "id": "K7K1LiYmpkfF",
        "outputId": "df9b8721-1a77-4128-e8c4-a15d7513278d"
      },
      "outputs": [],
      "source": [
        "histogram_boxplot(data,'windspeed')"
      ]
    },
    {
      "cell_type": "markdown",
      "metadata": {
        "id": "4mvgg6ccpkfF"
      },
      "source": [
        "- Wind speed has a right-skewed distribution and 0 has the highest count among all observations\n",
        "- Distribution is not symmetric but mean and median are approx equal with a value equal to 0.19\n",
        "- There are many outliers in this variable"
      ]
    },
    {
      "cell_type": "code",
      "execution_count": null,
      "metadata": {
        "colab": {
          "base_uri": "https://localhost:8080/",
          "height": 0
        },
        "id": "d3_FPOq8pkfG",
        "outputId": "c4346ee9-bb8d-47f4-df05-a89c96c253d5"
      },
      "outputs": [],
      "source": [
        "histogram_boxplot(data,'cnt')"
      ]
    },
    {
      "cell_type": "code",
      "execution_count": null,
      "metadata": {
        "colab": {
          "base_uri": "https://localhost:8080/"
        },
        "id": "_fIZpbTmpkfG",
        "outputId": "a4f46a78-6d40-4762-a4eb-e1dce6c6c0b4"
      },
      "outputs": [],
      "source": [
        "#Top 5 highest values\n",
        "data['cnt'].nlargest()"
      ]
    },
    {
      "cell_type": "markdown",
      "metadata": {
        "id": "L3rc55T-pkfG"
      },
      "source": [
        "- The target variable i.e. the count of bikes rented has a right-skewed distribution\n",
        "- The range of values is very large with many observations being less than 10 counts and some being greater than 900 count\n",
        "- As evident from the boxplot, there are many outliers"
      ]
    },
    {
      "cell_type": "code",
      "execution_count": null,
      "metadata": {
        "colab": {
          "base_uri": "https://localhost:8080/",
          "height": 0
        },
        "id": "n-o0L-5ZpkfJ",
        "outputId": "e18f66df-9774-4647-d755-58796bfd1d54"
      },
      "outputs": [],
      "source": [
        "labeled_barplot(data,'weathersit',perc=True)"
      ]
    },
    {
      "cell_type": "markdown",
      "metadata": {
        "id": "9XHU0XvSpkfK"
      },
      "source": [
        "- Season 1 has the highest percentage of observations i.e. 65.7%\n",
        "- Season 2 and season 3 have 26.1% and 8.2% observations respectively\n",
        "- We saw earlier that season 4 has only 3 observations in the data. Here, it shows 0% observations due to rounding off."
      ]
    },
    {
      "cell_type": "code",
      "execution_count": null,
      "metadata": {
        "colab": {
          "base_uri": "https://localhost:8080/",
          "height": 0
        },
        "id": "SWwwCdW1pkfL",
        "outputId": "7a9fd5b5-9bd6-4bfd-d472-48b1eb6b4aa6"
      },
      "outputs": [],
      "source": [
        "labeled_barplot(data,'workingday',perc=True)"
      ]
    },
    {
      "cell_type": "markdown",
      "metadata": {
        "id": "1uqod7LdpkfL"
      },
      "source": [
        "- As expected, the number of observations for working days is higher than the number of observations for non-working days.\n",
        "- There are approx 68% observations for working days and 32% observations for non-working days."
      ]
    },
    {
      "cell_type": "markdown",
      "metadata": {
        "id": "609z-Rg8pkfL"
      },
      "source": [
        "### Bivariate analysis"
      ]
    },
    {
      "cell_type": "markdown",
      "metadata": {
        "id": "Q_qz1RHPNEuu"
      },
      "source": [
        "**Correlation Check**"
      ]
    },
    {
      "cell_type": "code",
      "execution_count": 18,
      "metadata": {
        "colab": {
          "base_uri": "https://localhost:8080/",
          "height": 578
        },
        "id": "ycR8zmSZpkfO",
        "outputId": "d4603560-1246-4a8b-a342-e330f28df6a3"
      },
      "outputs": [
        {
          "data": {
            "image/png": "[encoded data removed]",
            "text/plain": [
              "<Figure size 1600x1000 with 1 Axes>"
            ]
          },
          "metadata": {},
          "output_type": "display_data"
        }
      ],
      "source": [
        "sns.set(rc={'figure.figsize':(16,10)})\n",
        "sns.heatmap(data.corr(numeric_only=True),\n",
        "            annot=True,\n",
        "            linewidths=.5,\n",
        "            center=0,\n",
        "            cbar=False,\n",
        "            cmap=\"Spectral\")\n",
        "plt.show()"
      ]
    },
    {
      "cell_type": "markdown",
      "metadata": {
        "id": "4EXvu1RPpkfO"
      },
      "source": [
        "- We can see that temperature and feel like temperature are almost perfectly correlated\n",
        "- Month and season have a high positive correlation among them\n",
        "- As count is the addition of two columns - Casual and registered. We can drop these two columns because if we have casual and registered count then making a model won't make sense as we can simply add them. We would not have these 2 columns while predicting new observations"
      ]
    },
    {
      "cell_type": "code",
      "execution_count": null,
      "metadata": {
        "colab": {
          "base_uri": "https://localhost:8080/",
          "height": 295
        },
        "id": "dGDXfharpkfL",
        "outputId": "2481ea22-135c-44b7-b173-94d65be4aab6"
      },
      "outputs": [],
      "source": [
        "sns.set(rc={'figure.figsize':(21,7)})\n",
        "sns.catplot(x=data[\"season\"], y=data[\"cnt\"], kind=\"swarm\",height=7, aspect=3);"
      ]
    },
    {
      "cell_type": "markdown",
      "metadata": {
        "id": "MhDKuBtGpkfL"
      },
      "source": [
        "- The lowest number of bikes are rented in the first season\n",
        "- The highest number of bikes are shared in 3rd season\n",
        "- This can be due to the relatively high temperature in season 1 i.e. spring as compared to season 3 i.e. fall"
      ]
    },
    {
      "cell_type": "code",
      "execution_count": null,
      "metadata": {
        "colab": {
          "base_uri": "https://localhost:8080/",
          "height": 0
        },
        "id": "JJFRgYldpkfL",
        "outputId": "68cb3673-e006-4692-cdc8-c8dc985064da"
      },
      "outputs": [],
      "source": [
        "sns.set(rc={'figure.figsize':(21,7)})\n",
        "sns.catplot(x=data[\"weekday\"], y=data[\"cnt\"], kind=\"swarm\", height=7, aspect=3);"
      ]
    },
    {
      "cell_type": "markdown",
      "metadata": {
        "id": "dr-XnuLspkfM"
      },
      "source": [
        "- Weekends i.e. weekday=0 and weekday=6 have a low count of bikes rented and it is less varying.\n",
        "- Working days have a higher count of bikes rented and have more variation in the count and there are some outliers for days from 1 to 5.\n",
        "- This can be due to closed schools/offices on weekends."
      ]
    },
    {
      "cell_type": "code",
      "execution_count": null,
      "metadata": {
        "colab": {
          "base_uri": "https://localhost:8080/",
          "height": 0
        },
        "id": "-gfrWRidpkfM",
        "outputId": "9c50e2ed-eea3-400a-b376-b9b5a73ca361"
      },
      "outputs": [],
      "source": [
        "sns.catplot(x=data[\"hr\"], y=data[\"cnt\"], kind='bar', height=7, aspect=1.5, estimator=np.mean);"
      ]
    },
    {
      "cell_type": "markdown",
      "metadata": {
        "id": "vt0uGd8zpkfN"
      },
      "source": [
        "- We can see the average number of bikes rented is high at 8 AM and 5-6 PM, this can be due to office/school/college timings.\n",
        "- The average number of bikes rented is very low for night time i.e. 12 AM to 5 AM."
      ]
    },
    {
      "cell_type": "code",
      "execution_count": null,
      "metadata": {
        "colab": {
          "base_uri": "https://localhost:8080/",
          "height": 0
        },
        "id": "7mV81yylpkfN",
        "outputId": "cdf60f80-c2d7-4e4e-8aa3-82b4960392e4"
      },
      "outputs": [],
      "source": [
        "sns.catplot(x=data[\"mnth\"], y=data[\"cnt\"], kind='bar', height=6, aspect=1.6, estimator=np.mean);"
      ]
    },
    {
      "cell_type": "markdown",
      "metadata": {
        "id": "2oe_ZxljpkfN"
      },
      "source": [
        "- The average number of bikes rented is low for months - December, January, February. This can be due to the cold weather in these months.\n",
        "- The average number of bikes rented is consistently high for months from May to October."
      ]
    },
    {
      "cell_type": "code",
      "execution_count": null,
      "metadata": {
        "colab": {
          "base_uri": "https://localhost:8080/",
          "height": 0
        },
        "id": "I1L10TqtpkfN",
        "outputId": "72faaa29-11b5-44d5-f7cb-6378054b3301"
      },
      "outputs": [],
      "source": [
        "sns.set(rc={'figure.figsize':(15,7)})\n",
        "pd.pivot_table(data=data, index=['yr', 'season'], values='cnt', aggfunc=np.sum).plot(kind='bar');"
      ]
    },
    {
      "cell_type": "markdown",
      "metadata": {
        "id": "yv_KfhU3pkfO"
      },
      "source": [
        "- We can see that number of bikes rented is higher in the year 2012 for each season as compared to seasons in 2011.\n",
        "- This shows that bike-sharing is becoming more popular with time."
      ]
    },
    {
      "cell_type": "code",
      "execution_count": null,
      "metadata": {
        "colab": {
          "base_uri": "https://localhost:8080/",
          "height": 0
        },
        "id": "CXxXw3fwpkfO",
        "outputId": "cc995842-ed90-4834-92a8-760db80695be"
      },
      "outputs": [],
      "source": [
        "sns.catplot(x=data[\"weathersit\"], y=data['cnt'], kind='bar', height=6, aspect=1.25, estimator=np.mean);"
      ]
    },
    {
      "cell_type": "markdown",
      "metadata": {
        "id": "H_SlGt-dpkfO"
      },
      "source": [
        "- As expected, the average count of bikes rented is much higher on clear or partly cloudy days compared to snowy or rainy days.\n",
        "- This implies that the average count of bikes rented is hugely affected by the weather."
      ]
    },
    {
      "cell_type": "markdown",
      "metadata": {
        "id": "ND-xRlT0sO-Q"
      },
      "source": [
        "## Data Preprocessing"
      ]
    },
    {
      "cell_type": "markdown",
      "metadata": {
        "id": "_gXSeD7fsonV"
      },
      "source": [
        "### Outlier Detection and Treatment"
      ]
    },
    {
      "cell_type": "code",
      "execution_count": null,
      "metadata": {
        "colab": {
          "base_uri": "https://localhost:8080/",
          "height": 0
        },
        "id": "rvGYcLsOssof",
        "outputId": "8fec4581-dfc8-49d1-d406-fef4ad022d7a"
      },
      "outputs": [],
      "source": [
        "# outlier detection using boxplot\n",
        "numeric_columns = data.select_dtypes(include=np.number).columns.tolist()\n",
        "\n",
        "\n",
        "plt.figure(figsize=(15, 12))\n",
        "\n",
        "for i, variable in enumerate(numeric_columns):\n",
        "    plt.subplot(4, 4, i + 1)\n",
        "    plt.boxplot(data[variable], whis=1.5)\n",
        "    plt.tight_layout()\n",
        "    plt.title(variable)\n",
        "\n",
        "plt.show()"
      ]
    },
    {
      "cell_type": "markdown",
      "metadata": {
        "id": "KdNURskis1WE"
      },
      "source": [
        "- There are quite a few outliers in the data.\n",
        "- However, we will not treat them as they are proper values."
      ]
    },
    {
      "cell_type": "markdown",
      "metadata": {
        "id": "w3LgJ-hXsaUV"
      },
      "source": [
        "**Actions for data pre-processing:**\n",
        "\n",
        "* As count is the addition of two columns - Casual and registered, we can drop these two columns because if we have casual and registered count then making a model won't make sense as we can simply add them.\n",
        "\n",
        "* We would not have these 2 columns while predicting new observations"
      ]
    },
    {
      "cell_type": "code",
      "execution_count": null,
      "metadata": {
        "id": "X2V2GoDqpkfP"
      },
      "outputs": [],
      "source": [
        "#Dropping columns - casual and registered\n",
        "data.drop(columns=['casual','registered'], inplace=True)"
      ]
    },
    {
      "cell_type": "markdown",
      "metadata": {
        "id": "t1qLz_lipkfP"
      },
      "source": [
        "### Data Preparataion for model building"
      ]
    },
    {
      "cell_type": "code",
      "execution_count": null,
      "metadata": {
        "id": "uofTCtHmpkfP"
      },
      "outputs": [],
      "source": [
        "# Separating features and the target column\n",
        "X = data.drop('cnt', axis=1)\n",
        "y = data['cnt']"
      ]
    },
    {
      "cell_type": "code",
      "execution_count": null,
      "metadata": {
        "id": "rz2YEWX1pkfP"
      },
      "outputs": [],
      "source": [
        "# Splitting the data into train and test sets in 70:30 ratio\n",
        "X_train, X_test, y_train, y_test = train_test_split(X, y, test_size=0.30, random_state=1, shuffle=True)"
      ]
    },
    {
      "cell_type": "code",
      "execution_count": null,
      "metadata": {
        "colab": {
          "base_uri": "https://localhost:8080/"
        },
        "id": "f0KBUB3lpkfP",
        "outputId": "0d04420d-a856-47fb-aaf5-39cbd3a10655"
      },
      "outputs": [],
      "source": [
        "X_train.shape, X_test.shape"
      ]
    },
    {
      "cell_type": "markdown",
      "metadata": {
        "id": "HJ6JLMV6pkfP"
      },
      "source": [
        "- We have 12,165 observations in the train set and 5,214 observations in the test set."
      ]
    },
    {
      "cell_type": "markdown",
      "metadata": {
        "id": "ltFoTTimpkfQ"
      },
      "source": [
        "## Bagging - Model Building and Hyperparameter Tuning"
      ]
    },
    {
      "cell_type": "markdown",
      "metadata": {
        "id": "3Z1JbEt2pkfQ"
      },
      "source": [
        "- We'll fit different models on the train data and observe their performance.\n",
        "- We'll try to improve that performance by tuning some hyperparameters available for that algorithm.\n",
        "- We'll use GridSearchCv for hyperparameter tuning and `r_2 score` to optimize the model.\n",
        "- R-square - `Coefficient of determination` is used to evaluate the performance of a regression model. It is the amount of the variation in the output dependent attribute which is predictable from the input independent variables.\n",
        "- Let's start by creating a function to get model scores, so that we don't have to use the same codes repeatedly."
      ]
    },
    {
      "cell_type": "code",
      "execution_count": null,
      "metadata": {
        "id": "nn8LvuUwoIz7"
      },
      "outputs": [],
      "source": [
        "# function to compute adjusted R-squared\n",
        "def adj_r2_score(predictors, targets, predictions):\n",
        "    r2 = r2_score(targets, predictions)\n",
        "    n = predictors.shape[0]\n",
        "    k = predictors.shape[1]\n",
        "    return 1 - ((1 - r2) * (n - 1) / (n - k - 1))\n",
        "\n",
        "\n",
        "# function to compute MAPE\n",
        "def mape_score(targets, predictions):\n",
        "    return np.mean(np.abs(targets - predictions) / targets) * 100\n",
        "\n",
        "\n",
        "# function to compute different metrics to check performance of a regression model\n",
        "def model_performance_regression(model, predictors, target):\n",
        "    \"\"\"\n",
        "    Function to compute different metrics to check regression model performance\n",
        "\n",
        "    model: regressor\n",
        "    predictors: independent variables\n",
        "    target: dependent variable\n",
        "    \"\"\"\n",
        "\n",
        "    # predicting using the independent variables\n",
        "    pred = model.predict(predictors)\n",
        "\n",
        "    r2 = r2_score(target, pred)  # to compute R-squared\n",
        "    adjr2 = adj_r2_score(predictors, target, pred)  # to compute adjusted R-squared\n",
        "    rmse = np.sqrt(mean_squared_error(target, pred))  # to compute RMSE\n",
        "    mae = mean_absolute_error(target, pred)  # to compute MAE\n",
        "    mape = mape_score(target, pred)  # to compute MAPE\n",
        "\n",
        "    # creating a dataframe of metrics\n",
        "    df_perf = pd.DataFrame(\n",
        "        {\n",
        "            \"RMSE\": rmse,\n",
        "            \"MAE\": mae,\n",
        "            \"R-squared\": r2,\n",
        "            \"Adj. R-squared\": adjr2,\n",
        "            \"MAPE\": mape,\n",
        "        },\n",
        "        index=[0],\n",
        "    )\n",
        "\n",
        "    return df_perf"
      ]
    },
    {
      "cell_type": "code",
      "execution_count": null,
      "metadata": {
        "id": "w_wwpxaepkfQ"
      },
      "outputs": [],
      "source": [
        "##  Function to calculate r2_score and RMSE on train and test data\n",
        "def get_model_score(model, flag=True):\n",
        "    '''\n",
        "    model : classifier to predict values of X\n",
        "\n",
        "    '''\n",
        "    # defining an empty list to store train and test results\n",
        "    score_list=[]\n",
        "\n",
        "    pred_train = model.predict(X_train)\n",
        "    pred_test = model.predict(X_test)\n",
        "\n",
        "    train_r2=metrics.r2_score(y_train,pred_train)\n",
        "    test_r2=metrics.r2_score(y_test,pred_test)\n",
        "    train_rmse=np.sqrt(metrics.mean_squared_error(y_train,pred_train))\n",
        "    test_rmse=np.sqrt(metrics.mean_squared_error(y_test,pred_test))\n",
        "\n",
        "    #Adding all scores in the list\n",
        "    score_list.extend((train_r2,test_r2,train_rmse,test_rmse))\n",
        "\n",
        "    # If the flag is set to True then only the following print statements will be dispayed, the default value is True\n",
        "    if flag==True:\n",
        "        print(\"R-sqaure on training set : \",metrics.r2_score(y_train,pred_train))\n",
        "        print(\"R-square on test set : \",metrics.r2_score(y_test,pred_test))\n",
        "        print(\"RMSE on training set : \",np.sqrt(metrics.mean_squared_error(y_train,pred_train)))\n",
        "        print(\"RMSE on test set : \",np.sqrt(metrics.mean_squared_error(y_test,pred_test)))\n",
        "\n",
        "    # returning the list with train and test scores\n",
        "    return score_list"
      ]
    },
    {
      "cell_type": "markdown",
      "metadata": {
        "id": "lXLBfLUGpkfQ"
      },
      "source": [
        "### Decision Tree Model"
      ]
    },
    {
      "cell_type": "code",
      "execution_count": null,
      "metadata": {
        "colab": {
          "base_uri": "https://localhost:8080/",
          "height": 0
        },
        "id": "wO23Fi_IpkfQ",
        "outputId": "5c1f234b-88dd-4db5-9de0-be153a4f62c8"
      },
      "outputs": [],
      "source": [
        "dtree=DecisionTreeRegressor(random_state=1)\n",
        "dtree.fit(X_train,y_train)"
      ]
    },
    {
      "cell_type": "code",
      "execution_count": null,
      "metadata": {
        "id": "m5T-4vIcoIz7"
      },
      "outputs": [],
      "source": [
        "from sklearn.metrics import r2_score, mean_squared_error, mean_absolute_error"
      ]
    },
    {
      "cell_type": "code",
      "execution_count": null,
      "metadata": {
        "colab": {
          "base_uri": "https://localhost:8080/"
        },
        "id": "Gj1yRPLjoIz8",
        "outputId": "cdfa0f22-fe99-4568-ed20-c2a233dc98d5"
      },
      "outputs": [],
      "source": [
        "dtree_model_train_perf=model_performance_regression(dtree, X_train,y_train)\n",
        "print(\"Training performance \\n\",dtree_model_train_perf)"
      ]
    },
    {
      "cell_type": "code",
      "execution_count": null,
      "metadata": {
        "colab": {
          "base_uri": "https://localhost:8080/"
        },
        "id": "HLePcbMooIz8",
        "outputId": "2b12e629-0ce1-4b0a-9c80-89dc3a520f39"
      },
      "outputs": [],
      "source": [
        "dtree_model_test_perf=model_performance_regression(dtree, X_test,y_test)\n",
        "print(\"Testing performance \\n\",dtree_model_test_perf)"
      ]
    },
    {
      "cell_type": "markdown",
      "metadata": {
        "id": "y3Nbu3A2pkfR"
      },
      "source": [
        "- The Decision tree model with default parameters is overfitting the train data.\n",
        "- Let's see if we can reduce overfitting and improve performance on test data by tuning hyperparameters."
      ]
    },
    {
      "cell_type": "markdown",
      "metadata": {
        "id": "ra1li3uypkfR"
      },
      "source": [
        "### Hyperparameter Tuning"
      ]
    },
    {
      "cell_type": "code",
      "execution_count": null,
      "metadata": {
        "colab": {
          "base_uri": "https://localhost:8080/",
          "height": 0
        },
        "id": "Hwq0FSNOpkfR",
        "outputId": "aced6235-f418-4206-e616-2eb8ec72015b"
      },
      "outputs": [],
      "source": [
        "# Choose the type of classifier.\n",
        "dtree_tuned = DecisionTreeRegressor(random_state=1)\n",
        "\n",
        "# Grid of parameters to choose from\n",
        "parameters = {'max_depth': list(np.arange(2,20)) + [None],\n",
        "              'min_samples_leaf': [1, 3, 5, 7, 10],\n",
        "              'max_leaf_nodes' : [2, 3, 5, 10, 15] + [None],\n",
        "              'min_impurity_decrease': [0.001, 0.01, 0.1, 0.0]\n",
        "             }\n",
        "\n",
        "# Type of scoring used to compare parameter combinations\n",
        "scorer = metrics.make_scorer(metrics.r2_score)\n",
        "\n",
        "# Run the grid search\n",
        "grid_obj = GridSearchCV(dtree_tuned, parameters, scoring=scorer,cv=5)\n",
        "grid_obj = grid_obj.fit(X_train, y_train)\n",
        "\n",
        "# Set the clf to the best combination of parameters\n",
        "dtree_tuned = grid_obj.best_estimator_\n",
        "\n",
        "# Fit the best algorithm to the data.\n",
        "dtree_tuned.fit(X_train, y_train)"
      ]
    },
    {
      "cell_type": "code",
      "execution_count": null,
      "metadata": {
        "colab": {
          "base_uri": "https://localhost:8080/"
        },
        "id": "ht8bldcgoIz8",
        "outputId": "5f40aae4-4de0-450a-f344-609f6fbc5b42"
      },
      "outputs": [],
      "source": [
        "dtree_tuned_model_train_perf = model_performance_regression(dtree_tuned, X_train,y_train)\n",
        "print(\"Training performance \\n\",dtree_tuned_model_train_perf)"
      ]
    },
    {
      "cell_type": "code",
      "execution_count": null,
      "metadata": {
        "colab": {
          "base_uri": "https://localhost:8080/"
        },
        "id": "0J8sU6SXoIz8",
        "outputId": "c2323e67-95c4-45c1-acbc-46a1f54fb906"
      },
      "outputs": [],
      "source": [
        "dtree_tuned_model_test_perf = model_performance_regression(dtree_tuned, X_test,y_test)\n",
        "print(\"Testing performance \\n\",dtree_tuned_model_test_perf)"
      ]
    },
    {
      "cell_type": "markdown",
      "metadata": {
        "id": "sg9gEsJipkfS"
      },
      "source": [
        "- The overfitting is reduced after hyperparameter tuning and the test score has increased by approx 2%.\n",
        "- RMSE is also reduced on test data and the model is generalizing better than the decision tree model with default parameters."
      ]
    },
    {
      "cell_type": "markdown",
      "metadata": {
        "id": "Z5jWUsKGpkfS"
      },
      "source": [
        "**Plotting the feature importance of each variable**"
      ]
    },
    {
      "cell_type": "code",
      "execution_count": null,
      "metadata": {
        "colab": {
          "base_uri": "https://localhost:8080/"
        },
        "id": "EVStVqOopkfS",
        "outputId": "07cbbdaa-152f-4871-aeb1-b8664be22c12"
      },
      "outputs": [],
      "source": [
        "# importance of features in the tree building ( The importance of a feature is computed as the\n",
        "#(normalized) total reduction of the criterion brought by that feature. It is also known as the Gini importance )\n",
        "\n",
        "print(pd.DataFrame(dtree_tuned.feature_importances_, columns = [\"Imp\"], index = X_train.columns).sort_values(by = 'Imp', ascending = False))"
      ]
    },
    {
      "cell_type": "code",
      "execution_count": null,
      "metadata": {
        "colab": {
          "base_uri": "https://localhost:8080/",
          "height": 0
        },
        "id": "mE4t1dbMpkfS",
        "outputId": "5ba6bb65-2d96-4e47-c2b2-ffd839e7b94c"
      },
      "outputs": [],
      "source": [
        "feature_names = X_train.columns\n",
        "importances = dtree_tuned.feature_importances_\n",
        "indices = np.argsort(importances)\n",
        "\n",
        "plt.figure(figsize=(12,12))\n",
        "plt.title('Feature Importances')\n",
        "plt.barh(range(len(indices)), importances[indices], color='violet', align='center')\n",
        "plt.yticks(range(len(indices)), [feature_names[i] for i in indices])\n",
        "plt.xlabel('Relative Importance')\n",
        "plt.show()"
      ]
    },
    {
      "cell_type": "markdown",
      "metadata": {
        "id": "S7CaEHg0pkfS"
      },
      "source": [
        "- hr is the most important feature, in addition to temp and yr, for tuned decision tree model"
      ]
    },
    {
      "cell_type": "markdown",
      "metadata": {
        "id": "4cjAcN7LpkfS"
      },
      "source": [
        "### Random Forest Model"
      ]
    },
    {
      "cell_type": "code",
      "execution_count": null,
      "metadata": {
        "colab": {
          "base_uri": "https://localhost:8080/",
          "height": 0
        },
        "id": "pS9Fmr1HpkfT",
        "outputId": "518734f2-031c-47b1-ecaf-23d796ae2ea0"
      },
      "outputs": [],
      "source": [
        "rf_estimator=RandomForestRegressor(random_state=1)\n",
        "rf_estimator.fit(X_train,y_train)"
      ]
    },
    {
      "cell_type": "code",
      "execution_count": null,
      "metadata": {
        "colab": {
          "base_uri": "https://localhost:8080/"
        },
        "id": "-rYQT2cGoIz9",
        "outputId": "f348a3ac-3e0c-4044-e709-02b38997cbd7"
      },
      "outputs": [],
      "source": [
        "rf_estimator_model_train_perf = model_performance_regression(rf_estimator, X_train,y_train)\n",
        "print(\"Training performance \\n\",rf_estimator_model_train_perf)"
      ]
    },
    {
      "cell_type": "code",
      "execution_count": null,
      "metadata": {
        "colab": {
          "base_uri": "https://localhost:8080/"
        },
        "id": "WawrAjO1oIz9",
        "outputId": "45759954-a1b1-4679-8413-ea1f3e081bb7"
      },
      "outputs": [],
      "source": [
        "rf_estimator_model_test_perf = model_performance_regression(rf_estimator, X_test,y_test)\n",
        "print(\"Testing performance \\n\",rf_estimator_model_test_perf)"
      ]
    },
    {
      "cell_type": "markdown",
      "metadata": {
        "id": "eGWyxWlHpkfT"
      },
      "source": [
        "- Random forest is giving a good r2 score of 94% on the test data but it is slightly overfitting the train data.\n",
        "- Let's try to reduce this overfitting by hyperparameter tuning."
      ]
    },
    {
      "cell_type": "markdown",
      "metadata": {
        "id": "o8GgdCFTpkfT"
      },
      "source": [
        "### Hyperparameter Tuning"
      ]
    },
    {
      "cell_type": "code",
      "execution_count": null,
      "metadata": {
        "colab": {
          "base_uri": "https://localhost:8080/",
          "height": 0
        },
        "id": "_iz2v842pkfT",
        "outputId": "c3a9dbfc-16fd-40d8-9509-c3a28e100074"
      },
      "outputs": [],
      "source": [
        "# Choose the type of classifier.\n",
        "rf_tuned = RandomForestRegressor(random_state=1)\n",
        "\n",
        "# Grid of parameters to choose from\n",
        "parameters = {\n",
        "                'max_depth':[4, 6, 8, 10, None],\n",
        "                'max_features': ['sqrt','log2',None],\n",
        "                'n_estimators': [80, 90, 100, 110, 120]\n",
        "}\n",
        "\n",
        "# Type of scoring used to compare parameter combinations\n",
        "scorer = metrics.make_scorer(metrics.r2_score)\n",
        "\n",
        "# Run the grid search\n",
        "grid_obj = GridSearchCV(rf_tuned, parameters, scoring=scorer,cv=5)\n",
        "grid_obj = grid_obj.fit(X_train, y_train)\n",
        "\n",
        "# Set the clf to the best combination of parameters\n",
        "rf_tuned = grid_obj.best_estimator_\n",
        "\n",
        "# Fit the best algorithm to the data.\n",
        "rf_tuned.fit(X_train, y_train)"
      ]
    },
    {
      "cell_type": "code",
      "execution_count": null,
      "metadata": {
        "colab": {
          "base_uri": "https://localhost:8080/"
        },
        "id": "cCJoQO0goIz-",
        "outputId": "f6391933-27ed-4de8-8c36-8bdbc5b2b6df"
      },
      "outputs": [],
      "source": [
        "rf_tuned_model_train_perf = model_performance_regression(rf_tuned, X_train, y_train)\n",
        "print(\"Training performance \\n\",rf_tuned_model_train_perf)"
      ]
    },
    {
      "cell_type": "code",
      "execution_count": null,
      "metadata": {
        "colab": {
          "base_uri": "https://localhost:8080/"
        },
        "id": "QGcEPg3FoIz-",
        "outputId": "a6bbe405-7eeb-44a3-f121-3b52a9cdf0c1"
      },
      "outputs": [],
      "source": [
        "rf_tuned_model_test_perf = model_performance_regression(rf_tuned, X_test, y_test)\n",
        "print(\"Testing performance \\n\",rf_tuned_model_test_perf)"
      ]
    },
    {
      "cell_type": "markdown",
      "metadata": {
        "id": "bh9GVZccpkfU"
      },
      "source": [
        "- No significant change in the result. The result is almost the same before or after the hyperparameter tuning."
      ]
    },
    {
      "cell_type": "code",
      "execution_count": null,
      "metadata": {
        "colab": {
          "base_uri": "https://localhost:8080/"
        },
        "id": "F2xJ6bd8pkfU",
        "outputId": "949d7dad-d05a-4cc7-9212-22bb11350496"
      },
      "outputs": [],
      "source": [
        "# importance of features in the tree building ( The importance of a feature is computed as the\n",
        "#(normalized) total reduction of the criterion brought by that feature. It is also known as the Gini importance )\n",
        "\n",
        "print(pd.DataFrame(rf_tuned.feature_importances_, columns = [\"Imp\"], index = X_train.columns).sort_values(by = 'Imp', ascending = False))"
      ]
    },
    {
      "cell_type": "code",
      "execution_count": null,
      "metadata": {
        "colab": {
          "base_uri": "https://localhost:8080/",
          "height": 0
        },
        "id": "EomBVffGpkfU",
        "outputId": "a4941095-dd07-47e0-c2e6-c2149a284352"
      },
      "outputs": [],
      "source": [
        "feature_names = X_train.columns\n",
        "importances = rf_tuned.feature_importances_\n",
        "indices = np.argsort(importances)\n",
        "\n",
        "plt.figure(figsize=(12,12))\n",
        "plt.title('Feature Importances')\n",
        "plt.barh(range(len(indices)), importances[indices], color='violet', align='center')\n",
        "plt.yticks(range(len(indices)), [feature_names[i] for i in indices])\n",
        "plt.xlabel('Relative Importance')\n",
        "plt.show()"
      ]
    },
    {
      "cell_type": "markdown",
      "metadata": {
        "id": "7_mP72xYpkfU"
      },
      "source": [
        "- hr is the most important feature, in addition to temp and yr, for the tuned random forest model."
      ]
    },
    {
      "cell_type": "markdown",
      "metadata": {
        "id": "_M7GLyjOpkfV"
      },
      "source": [
        "## Boosting - Model Building and Hyperparameter Tuning"
      ]
    },
    {
      "cell_type": "markdown",
      "metadata": {
        "id": "GZw_di98pkfV"
      },
      "source": [
        "### AdaBoost Regressor"
      ]
    },
    {
      "cell_type": "code",
      "execution_count": null,
      "metadata": {
        "colab": {
          "base_uri": "https://localhost:8080/",
          "height": 0
        },
        "id": "YElA_stqpkfV",
        "outputId": "614ffa22-f7b5-4663-8d34-aa8a56bd00db"
      },
      "outputs": [],
      "source": [
        "ab_regressor=AdaBoostRegressor(random_state=1)\n",
        "ab_regressor.fit(X_train,y_train)"
      ]
    },
    {
      "cell_type": "code",
      "execution_count": null,
      "metadata": {
        "colab": {
          "base_uri": "https://localhost:8080/"
        },
        "id": "jhbOYWnsoIz-",
        "outputId": "922f50fd-1b78-413a-cb9d-0328bd1c7311"
      },
      "outputs": [],
      "source": [
        "ab_regressor_model_train_perf = model_performance_regression(ab_regressor, X_train,y_train)\n",
        "print(\"Training performance \\n\",ab_regressor_model_train_perf)"
      ]
    },
    {
      "cell_type": "code",
      "execution_count": null,
      "metadata": {
        "colab": {
          "base_uri": "https://localhost:8080/"
        },
        "id": "60D9nk-WoIz_",
        "outputId": "21905d87-72f7-43d4-b3f2-473ebff8a23c"
      },
      "outputs": [],
      "source": [
        "ab_regressor_model_test_perf = model_performance_regression(ab_regressor, X_test,y_test)\n",
        "print(\"Testing performance \\n\",ab_regressor_model_test_perf)"
      ]
    },
    {
      "cell_type": "markdown",
      "metadata": {
        "id": "8NWDbMSTpkfV"
      },
      "source": [
        "- AdaBoost is generalizing well but it is giving poor performance, in terms of r2 score as well as RMSE, as compared to the decision tree and random forest model.  "
      ]
    },
    {
      "cell_type": "markdown",
      "metadata": {
        "id": "SlRV-tn-pkfW"
      },
      "source": [
        "### Hyperparameter Tuning"
      ]
    },
    {
      "cell_type": "code",
      "execution_count": null,
      "metadata": {
        "colab": {
          "base_uri": "https://localhost:8080/",
          "height": 0
        },
        "id": "aDq6BJx0pkfW",
        "outputId": "0c5388c7-99fd-4245-b0d1-16725641342d"
      },
      "outputs": [],
      "source": [
        "# Choose the type of classifier.\n",
        "ab_tuned = AdaBoostRegressor(random_state=1)\n",
        "\n",
        "# Grid of parameters to choose from\n",
        "parameters = {'n_estimators': np.arange(10,100,10),\n",
        "              'learning_rate': [1, 0.1, 0.5, 0.01],\n",
        "              }\n",
        "\n",
        "# Type of scoring used to compare parameter combinations\n",
        "scorer = metrics.make_scorer(metrics.r2_score)\n",
        "\n",
        "# Run the grid search\n",
        "grid_obj = GridSearchCV(ab_tuned, parameters, scoring=scorer,cv=5)\n",
        "grid_obj = grid_obj.fit(X_train, y_train)\n",
        "\n",
        "# Set the clf to the best combination of parameters\n",
        "ab_tuned = grid_obj.best_estimator_\n",
        "\n",
        "# Fit the best algorithm to the data.\n",
        "ab_tuned.fit(X_train, y_train)"
      ]
    },
    {
      "cell_type": "code",
      "execution_count": null,
      "metadata": {
        "colab": {
          "base_uri": "https://localhost:8080/"
        },
        "id": "0PotV8tqpkfW",
        "outputId": "1cfb0067-9c76-4a5e-f794-ac3a8e9017bc"
      },
      "outputs": [],
      "source": [
        "ab_tuned_model_train_perf = model_performance_regression(ab_tuned, X_train,y_train)\n",
        "print(\"Training performance \\n\",ab_tuned_model_train_perf)"
      ]
    },
    {
      "cell_type": "code",
      "execution_count": null,
      "metadata": {
        "colab": {
          "base_uri": "https://localhost:8080/"
        },
        "id": "WvZ8HnGcoIz_",
        "outputId": "35ad33aa-cdb6-4719-bed0-9a5257743413"
      },
      "outputs": [],
      "source": [
        "ab_tuned_model_test_perf = model_performance_regression(ab_tuned, X_test,y_test)\n",
        "print(\"Testing performance \\n\",ab_tuned_model_test_perf)"
      ]
    },
    {
      "cell_type": "markdown",
      "metadata": {
        "id": "xTTIJ9RopkfW"
      },
      "source": [
        "- We can see that there is no significant improvement in the model after hyperparameter tuning."
      ]
    },
    {
      "cell_type": "code",
      "execution_count": null,
      "metadata": {
        "colab": {
          "base_uri": "https://localhost:8080/"
        },
        "id": "iblPSSCYpkfW",
        "outputId": "5c476f2f-86f7-4492-ca48-15bbff8389c2"
      },
      "outputs": [],
      "source": [
        "# importance of features in the tree building\n",
        "\n",
        "print(pd.DataFrame(ab_tuned.feature_importances_, columns = [\"Imp\"], index = X_train.columns).sort_values(by = 'Imp', ascending = False))"
      ]
    },
    {
      "cell_type": "code",
      "execution_count": null,
      "metadata": {
        "colab": {
          "base_uri": "https://localhost:8080/",
          "height": 0
        },
        "id": "fEKO-LBWpkfX",
        "outputId": "e832ede4-643d-4276-877d-6fc37d485512"
      },
      "outputs": [],
      "source": [
        "feature_names = X_train.columns\n",
        "importances = ab_tuned.feature_importances_\n",
        "indices = np.argsort(importances)\n",
        "\n",
        "plt.figure(figsize=(12,12))\n",
        "plt.title('Feature Importances')\n",
        "plt.barh(range(len(indices)), importances[indices], color='violet', align='center')\n",
        "plt.yticks(range(len(indices)), [feature_names[i] for i in indices])\n",
        "plt.xlabel('Relative Importance')\n",
        "plt.show()"
      ]
    },
    {
      "cell_type": "markdown",
      "metadata": {
        "id": "OvuElLZ4pkfX"
      },
      "source": [
        "- hr is the most important feature here, followed by yr and atemp."
      ]
    },
    {
      "cell_type": "markdown",
      "metadata": {
        "id": "J0LI-9gKpkfX"
      },
      "source": [
        "### Gradient Boosting Regressor"
      ]
    },
    {
      "cell_type": "code",
      "execution_count": null,
      "metadata": {
        "colab": {
          "base_uri": "https://localhost:8080/",
          "height": 0
        },
        "id": "c3QIzKLLpkfX",
        "outputId": "968b3725-bc95-4f80-8809-70f8958b61dd"
      },
      "outputs": [],
      "source": [
        "gb_estimator=GradientBoostingRegressor(random_state=1)\n",
        "gb_estimator.fit(X_train,y_train)"
      ]
    },
    {
      "cell_type": "code",
      "execution_count": null,
      "metadata": {
        "colab": {
          "base_uri": "https://localhost:8080/"
        },
        "id": "AuWaEz2gpkfX",
        "outputId": "ac9d28e4-e8a9-4f1e-82a6-158521a30e15"
      },
      "outputs": [],
      "source": [
        "gb_estimator_model_train_perf = model_performance_regression(gb_estimator, X_train,y_train)\n",
        "print(\"Training performance \\n\",gb_estimator_model_train_perf)"
      ]
    },
    {
      "cell_type": "code",
      "execution_count": null,
      "metadata": {
        "colab": {
          "base_uri": "https://localhost:8080/"
        },
        "id": "norfIy5voI0A",
        "outputId": "ae60d0c9-139e-408c-c2e7-23618affa3e4"
      },
      "outputs": [],
      "source": [
        "gb_estimator_model_test_perf = model_performance_regression(gb_estimator, X_test, y_test)\n",
        "print(\"Testing performance \\n\",gb_estimator_model_test_perf)"
      ]
    },
    {
      "cell_type": "markdown",
      "metadata": {
        "id": "aojwgIafpkfY"
      },
      "source": [
        "- Gradient boosting is generalizing well and giving decent results but not as good as random forest."
      ]
    },
    {
      "cell_type": "markdown",
      "metadata": {
        "id": "AbxL7YlzpkfY"
      },
      "source": [
        "### Hyperparameter Tuning"
      ]
    },
    {
      "cell_type": "code",
      "execution_count": null,
      "metadata": {
        "colab": {
          "base_uri": "https://localhost:8080/",
          "height": 0
        },
        "id": "4ENuCKyhpkfY",
        "outputId": "258f093b-fa27-4f6b-a4f4-0206b59b5ce8"
      },
      "outputs": [],
      "source": [
        "# Choose the type of classifier.\n",
        "gb_tuned = GradientBoostingRegressor(random_state=1)\n",
        "\n",
        "# Grid of parameters to choose from\n",
        "parameters = {'n_estimators': np.arange(50,200,25),\n",
        "              'subsample':[0.7,0.8,0.9,1],\n",
        "              'max_features':[0.7,0.8,0.9,1],\n",
        "              'max_depth':[3,5,7,10]\n",
        "              }\n",
        "\n",
        "# Type of scoring used to compare parameter combinations\n",
        "scorer = metrics.make_scorer(metrics.r2_score)\n",
        "\n",
        "# Run the grid search\n",
        "grid_obj = GridSearchCV(gb_tuned, parameters, scoring=scorer,cv=5)\n",
        "grid_obj = grid_obj.fit(X_train, y_train)\n",
        "\n",
        "# Set the clf to the best combination of parameters\n",
        "gb_tuned = grid_obj.best_estimator_\n",
        "\n",
        "# Fit the best algorithm to the data.\n",
        "gb_tuned.fit(X_train, y_train)"
      ]
    },
    {
      "cell_type": "code",
      "execution_count": null,
      "metadata": {
        "colab": {
          "base_uri": "https://localhost:8080/"
        },
        "id": "p83J_Co4oI0B",
        "outputId": "ee06b5e1-ab2c-4ccc-df1c-de5eb1ba7a5b"
      },
      "outputs": [],
      "source": [
        "gb_tuned_model_train_perf = model_performance_regression(gb_tuned, X_train,y_train)\n",
        "print(\"Training performance \\n\",gb_tuned_model_train_perf)"
      ]
    },
    {
      "cell_type": "code",
      "execution_count": null,
      "metadata": {
        "colab": {
          "base_uri": "https://localhost:8080/"
        },
        "id": "v2NDXor8oI0B",
        "outputId": "2b34119b-b7a3-4a76-eb01-5857fa3a2c78"
      },
      "outputs": [],
      "source": [
        "gb_tuned_model_test_perf = model_performance_regression(gb_tuned, X_test, y_test)\n",
        "print(\"Testing performance \\n\",gb_tuned_model_test_perf)"
      ]
    },
    {
      "cell_type": "markdown",
      "metadata": {
        "id": "_mwD6pvppkfY"
      },
      "source": [
        "- We can see that the model has improved significantly in terms of r2 score and RMSE.\n",
        "- The r2 score has increased by approx 12% on the test data.\n",
        "- RMSE has decreased by more than 30 for the test data."
      ]
    },
    {
      "cell_type": "code",
      "execution_count": null,
      "metadata": {
        "colab": {
          "base_uri": "https://localhost:8080/"
        },
        "id": "LOp3mewWpkfZ",
        "outputId": "72484d15-6237-4350-f868-be13e429d8cb"
      },
      "outputs": [],
      "source": [
        "# importance of features in the tree building ( The importance of a feature is computed as the\n",
        "#(normalized) total reduction of the criterion brought by that feature. It is also known as the Gini importance )\n",
        "\n",
        "print(pd.DataFrame(gb_tuned.feature_importances_, columns = [\"Imp\"], index = X_train.columns).sort_values(by = 'Imp', ascending = False))"
      ]
    },
    {
      "cell_type": "code",
      "execution_count": null,
      "metadata": {
        "colab": {
          "base_uri": "https://localhost:8080/",
          "height": 0
        },
        "id": "CmH17bcVpkfZ",
        "outputId": "b4ed0889-2d09-4710-fed0-b0ca904eac8b"
      },
      "outputs": [],
      "source": [
        "feature_names = X_train.columns\n",
        "importances = gb_tuned.feature_importances_\n",
        "indices = np.argsort(importances)\n",
        "\n",
        "plt.figure(figsize=(12,12))\n",
        "plt.title('Feature Importances')\n",
        "plt.barh(range(len(indices)), importances[indices], color='violet', align='center')\n",
        "plt.yticks(range(len(indices)), [feature_names[i] for i in indices])\n",
        "plt.xlabel('Relative Importance')\n",
        "plt.show()"
      ]
    },
    {
      "cell_type": "markdown",
      "metadata": {
        "id": "D7UFL7ZFpkfZ"
      },
      "source": [
        "- hr is the most important feature\n",
        "- temp, yr and workingday have almost equal importance"
      ]
    },
    {
      "cell_type": "markdown",
      "metadata": {
        "id": "4lhC3dUipkfZ"
      },
      "source": [
        "### XGBoost Regressor"
      ]
    },
    {
      "cell_type": "code",
      "execution_count": null,
      "metadata": {
        "colab": {
          "base_uri": "https://localhost:8080/",
          "height": 0
        },
        "id": "I1gg-C36pkfZ",
        "outputId": "4e1cac62-fe56-44bb-aace-23c5661547c3"
      },
      "outputs": [],
      "source": [
        "xgb_estimator=XGBRegressor(random_state=1, verbosity = 0)\n",
        "xgb_estimator.fit(X_train,y_train)"
      ]
    },
    {
      "cell_type": "code",
      "execution_count": null,
      "metadata": {
        "colab": {
          "base_uri": "https://localhost:8080/"
        },
        "id": "juO-fkesoI0B",
        "outputId": "c9101ae1-ed86-4820-c135-5556aaf5fcf2"
      },
      "outputs": [],
      "source": [
        "xgb_estimator_model_train_perf = model_performance_regression(xgb_estimator, X_train, y_train)\n",
        "print(\"Training performance \\n\",xgb_estimator_model_train_perf)"
      ]
    },
    {
      "cell_type": "code",
      "execution_count": null,
      "metadata": {
        "colab": {
          "base_uri": "https://localhost:8080/"
        },
        "id": "yDkXRLCmoI0B",
        "outputId": "1f26468f-31c2-4794-d438-6609c756fe0a"
      },
      "outputs": [],
      "source": [
        "xgb_estimator_model_test_perf = model_performance_regression(xgb_estimator, X_test,y_test)\n",
        "print(\"Testing performance \\n\",xgb_estimator_model_test_perf)"
      ]
    },
    {
      "cell_type": "markdown",
      "metadata": {
        "id": "zZfl3Numpkfa"
      },
      "source": [
        "- XGBoost with default parameters is giving almost as good results as the tuned gradient boosting model."
      ]
    },
    {
      "cell_type": "markdown",
      "metadata": {
        "id": "cnXZB3wLpkfa"
      },
      "source": [
        "### Hyperparameter Tuning"
      ]
    },
    {
      "cell_type": "code",
      "execution_count": null,
      "metadata": {
        "colab": {
          "base_uri": "https://localhost:8080/",
          "height": 0
        },
        "id": "g0OwMXYNpkfb",
        "outputId": "5840e1d8-a80a-4ad8-e8eb-c303388a896e"
      },
      "outputs": [],
      "source": [
        "# Choose the type of classifier.\n",
        "xgb_tuned = XGBRegressor(random_state=1, verbosity = 0)\n",
        "\n",
        "# Grid of parameters to choose from\n",
        "parameters = {'n_estimators': [75,100,125,150],\n",
        "              'subsample':[0.7, 0.8, 0.9, 1],\n",
        "              'gamma':[0, 1, 3, 5],\n",
        "              'colsample_bytree':[0.7, 0.8, 0.9, 1],\n",
        "              'colsample_bylevel':[0.7, 0.8, 0.9, 1]\n",
        "              }\n",
        "\n",
        "# Type of scoring used to compare parameter combinations\n",
        "scorer = metrics.make_scorer(metrics.r2_score)\n",
        "\n",
        "# Run the grid search\n",
        "grid_obj = GridSearchCV(xgb_tuned, parameters, scoring=scorer,cv=5)\n",
        "grid_obj = grid_obj.fit(X_train, y_train)\n",
        "\n",
        "# Set the clf to the best combination of parameters\n",
        "xgb_tuned = grid_obj.best_estimator_\n",
        "\n",
        "# Fit the best algorithm to the data.\n",
        "xgb_tuned.fit(X_train, y_train)"
      ]
    },
    {
      "cell_type": "code",
      "execution_count": null,
      "metadata": {
        "colab": {
          "base_uri": "https://localhost:8080/"
        },
        "id": "DpPiuli-oI0C",
        "outputId": "6c21baf1-70d1-47b1-9fc8-5c885548f3e5"
      },
      "outputs": [],
      "source": [
        "xgb_tuned_model_train_perf = model_performance_regression(xgb_tuned, X_train, y_train)\n",
        "print(\"Training performance \\n\",xgb_tuned_model_train_perf)"
      ]
    },
    {
      "cell_type": "code",
      "execution_count": null,
      "metadata": {
        "colab": {
          "base_uri": "https://localhost:8080/"
        },
        "id": "EGgqIEtloI0C",
        "outputId": "2ecf3659-f037-4c28-93f1-07fc8b142ea9"
      },
      "outputs": [],
      "source": [
        "xgb_tuned_model_test_perf = model_performance_regression(xgb_tuned, X_test, y_test)\n",
        "print(\"Testing performance \\n\",xgb_tuned_model_test_perf)"
      ]
    },
    {
      "cell_type": "code",
      "execution_count": null,
      "metadata": {
        "colab": {
          "base_uri": "https://localhost:8080/"
        },
        "id": "dIT7S5_-pkfb",
        "outputId": "671a9d33-1941-4a07-889d-192330fb89e9"
      },
      "outputs": [],
      "source": [
        "# importance of features in the tree building ( The importance of a feature is computed as the\n",
        "#(normalized) total reduction of the criterion brought by that feature. It is also known as the Gini importance )\n",
        "\n",
        "print(pd.DataFrame(xgb_tuned.feature_importances_, columns = [\"Imp\"], index = X_train.columns).sort_values(by = 'Imp', ascending = False))"
      ]
    },
    {
      "cell_type": "code",
      "execution_count": null,
      "metadata": {
        "colab": {
          "base_uri": "https://localhost:8080/",
          "height": 0
        },
        "id": "gxtW9F6vpkfb",
        "outputId": "e309fbb5-32d1-4ded-a00b-a78925b9a9a6"
      },
      "outputs": [],
      "source": [
        "feature_names = X_train.columns\n",
        "importances = xgb_tuned.feature_importances_\n",
        "indices = np.argsort(importances)\n",
        "\n",
        "plt.figure(figsize=(12,12))\n",
        "plt.title('Feature Importances')\n",
        "plt.barh(range(len(indices)), importances[indices], color='violet', align='center')\n",
        "plt.yticks(range(len(indices)), [feature_names[i] for i in indices])\n",
        "plt.xlabel('Relative Importance')\n",
        "plt.show()"
      ]
    },
    {
      "cell_type": "markdown",
      "metadata": {
        "id": "J5iNarCMpkfc"
      },
      "source": [
        "- In XGBoost, workingday is the most important feature followed by features - hr and yr"
      ]
    },
    {
      "cell_type": "markdown",
      "metadata": {
        "id": "0_kkgb5Opkfc"
      },
      "source": [
        "## Stacking Model"
      ]
    },
    {
      "cell_type": "markdown",
      "metadata": {
        "id": "z7g7Uo6Spkfc"
      },
      "source": [
        "**Now, let's build a stacking model with the tuned models - decision tree, random forest, and gradient boosting, then use XGBoost to get the final prediction.**"
      ]
    },
    {
      "cell_type": "code",
      "execution_count": null,
      "metadata": {
        "id": "DcePq0DBpkfc"
      },
      "outputs": [],
      "source": [
        "estimators=[('Decision Tree', dtree_tuned),('Random Forest', rf_tuned),\n",
        "           ('Gradient Boosting', gb_tuned)]\n",
        "final_estimator=XGBRegressor(random_state=1)"
      ]
    },
    {
      "cell_type": "code",
      "execution_count": null,
      "metadata": {
        "colab": {
          "base_uri": "https://localhost:8080/",
          "height": 0
        },
        "id": "FZ6YP0ktpkfc",
        "outputId": "cb20ca6c-3649-48f0-e697-812ab84dab57"
      },
      "outputs": [],
      "source": [
        "stacking_estimator=StackingRegressor(estimators=estimators, final_estimator=final_estimator,cv=5)\n",
        "stacking_estimator.fit(X_train,y_train)"
      ]
    },
    {
      "cell_type": "code",
      "execution_count": null,
      "metadata": {
        "colab": {
          "base_uri": "https://localhost:8080/"
        },
        "id": "MEZIFLIKoI0D",
        "outputId": "fd24305d-99eb-4f43-acfb-f3b18c1ba813"
      },
      "outputs": [],
      "source": [
        "stacking_estimator_model_train_perf = model_performance_regression(stacking_estimator, X_train, y_train)\n",
        "print(\"Training performance \\n\",stacking_estimator_model_train_perf)"
      ]
    },
    {
      "cell_type": "code",
      "execution_count": null,
      "metadata": {
        "colab": {
          "base_uri": "https://localhost:8080/"
        },
        "id": "jXuhedc3oI0D",
        "outputId": "f4f74baf-eba3-48c2-8b1c-9f3d07cea1a4"
      },
      "outputs": [],
      "source": [
        "stacking_estimator_model_test_perf = model_performance_regression(stacking_estimator, X_test, y_test)\n",
        "print(\"Testing performance \\n\",stacking_estimator_model_test_perf)"
      ]
    },
    {
      "cell_type": "markdown",
      "metadata": {
        "id": "bzcOIbGWpkfd"
      },
      "source": [
        "## Comparing all models"
      ]
    },
    {
      "cell_type": "code",
      "execution_count": null,
      "metadata": {
        "colab": {
          "base_uri": "https://localhost:8080/",
          "height": 313
        },
        "id": "bfE_FHknoI0E",
        "outputId": "1b487660-c817-44ae-bbd5-7cffac4a80c9"
      },
      "outputs": [],
      "source": [
        "# training performance comparison\n",
        "\n",
        "models_train_comp_df = pd.concat(\n",
        "    [dtree_model_train_perf.T, dtree_tuned_model_train_perf.T, rf_estimator_model_train_perf.T,rf_tuned_model_train_perf.T,\n",
        "    ab_regressor_model_train_perf.T,ab_tuned_model_train_perf.T,gb_estimator_model_train_perf.T,gb_tuned_model_train_perf.T,\n",
        "    xgb_estimator_model_train_perf.T,xgb_tuned_model_train_perf.T,stacking_estimator_model_train_perf.T],\n",
        "    axis=1,\n",
        ")\n",
        "\n",
        "models_train_comp_df.columns = [\n",
        "    \"Decision Tree\",\n",
        "    \"Decision Tree Tuned\",\n",
        "    \"Random Forest Estimator\",\n",
        "    \"Random Forest Tuned\",\n",
        "    \"Adaboost Regressor\",\n",
        "    \"Adaboost Tuned\",\n",
        "    \"Gradient Boost Estimator\",\n",
        "    \"Gradient Boost Tuned\",\n",
        "    \"XGB\",\n",
        "    \"XGB Tuned\",\n",
        "    \"Stacking Classifier\"\n",
        "]\n",
        "\n",
        "print(\"Training performance comparison:\")\n",
        "models_train_comp_df"
      ]
    },
    {
      "cell_type": "code",
      "execution_count": null,
      "metadata": {
        "colab": {
          "base_uri": "https://localhost:8080/",
          "height": 313
        },
        "id": "zpyJoHUPoI0E",
        "outputId": "2f09a7bb-5c60-4977-cedf-7a924f6e6cf3"
      },
      "outputs": [],
      "source": [
        "# Testing performance comparison\n",
        "\n",
        "models_test_comp_df = pd.concat(\n",
        "    [dtree_model_test_perf.T, dtree_tuned_model_test_perf.T, rf_estimator_model_test_perf.T,rf_tuned_model_test_perf.T,\n",
        "    ab_regressor_model_test_perf.T,ab_tuned_model_test_perf.T,gb_estimator_model_test_perf.T,gb_tuned_model_test_perf.T,\n",
        "    xgb_estimator_model_test_perf.T,xgb_tuned_model_test_perf.T,stacking_estimator_model_test_perf.T],\n",
        "    axis=1,\n",
        ")\n",
        "\n",
        "models_test_comp_df.columns = [\n",
        "    \"Decision Tree\",\n",
        "    \"Decision Tree Tuned\",\n",
        "    \"Random Forest Estimator\",\n",
        "    \"Random Forest Tuned\",\n",
        "    \"Adaboost Regressor\",\n",
        "    \"Adaboost Tuned\",\n",
        "    \"Gradient Boost Estimator\",\n",
        "    \"Gradient Boost Tuned\",\n",
        "    \"XGB\",\n",
        "    \"XGB Tuned\",\n",
        "    \"Stacking Classifier\"\n",
        "]\n",
        "\n",
        "print(\"Testing performance comparison:\")\n",
        "models_test_comp_df"
      ]
    },
    {
      "cell_type": "markdown",
      "metadata": {
        "id": "Yv03CGidpkfe"
      },
      "source": [
        "- The tuned gradient boosting model is the best model here. It has the highest r2 score of approx 95.5% and the lowest RMSE of approx 39 on the test data.\n",
        "- Gradient boosting, XGBoost, and stacking regressor are the top 3 models. They are all giving a similar performance."
      ]
    },
    {
      "cell_type": "code",
      "execution_count": null,
      "metadata": {
        "colab": {
          "base_uri": "https://localhost:8080/",
          "height": 573
        },
        "id": "4xtVzthLpkfe",
        "outputId": "69da21b3-445f-4890-fb24-f380ab63feed"
      },
      "outputs": [],
      "source": [
        "# So plot observed and predicted values of the test data for the best model i.e. tuned gradient boosting model\n",
        "fig, ax = plt.subplots(figsize=(8, 6))\n",
        "y_pred=gb_tuned.predict(X_test)\n",
        "ax.scatter(y_test, y_pred, edgecolors=(0, 0, 1))\n",
        "ax.plot([y_test.min(), y_test.max()], [y_test.min(), y_test.max()], 'k--', lw=3)\n",
        "ax.set_xlabel('Observed')\n",
        "ax.set_ylabel('Predicted')\n",
        "ax.set_title(\"Observed vs Predicted\")\n",
        "plt.grid()\n",
        "plt.show()"
      ]
    },
    {
      "cell_type": "markdown",
      "metadata": {
        "id": "LpXoQM5Tpkfe"
      },
      "source": [
        "- We can see that points are dense on the line where predicted is equal to the observed.\n",
        "- This implies that most of the predicted values are close to the true values with some exceptions as seen in the plot."
      ]
    },
    {
      "cell_type": "markdown",
      "metadata": {
        "id": "WcNnZbs3pkfe"
      },
      "source": [
        "## Conclusions and Business Recommendations"
      ]
    },
    {
      "cell_type": "markdown",
      "metadata": {
        "id": "Gz_eDclppkff"
      },
      "source": [
        "- We can use this predictive model for any season and environmental parameters (which we know in advance) and can predict the count of the bikes to be rented. The ability to predict the number of hourly users can allow the entities (businesses/governments) that oversee these systems to manage them more efficiently and cost-effectively.\n",
        "- More bikes can be made available for the fall and winter seasons as the number of bikes rented is high in these seasons.\n",
        "- As the number of bikes rented is high for day timings compared to night timings, similarly, fall and winter seasons have more surges compared to other seasons. We can choose differential prices of bikes accordingly.\n",
        "- As most of the rentals are for commuting to workplaces and colleges daily, company can launch more stations near busy workplaces or schools/colleges to reach out to their main customers.\n",
        "- Number of bikes rented is heavily dependent on the weather. So, we should adjust the number of available bikes in an area based on the weather forecast.\n",
        "- Maintenance activities for bikes can be done at night due to low usage of bikes during the nighttime.\n",
        "- Company can provide offers or coupons like a monthly subscription to compensate for the low count on holidays or weekends."
      ]
    },
    {
      "cell_type": "markdown",
      "metadata": {
        "id": "pQawen1puuTC"
      },
      "source": [
        "## <a name='link1'>Appendix: Detailed Exploratory Data Analysis (EDA)</a>"
      ]
    },
    {
      "cell_type": "markdown",
      "metadata": {
        "id": "L3b1KDhjuno4"
      },
      "source": [
        "### Univariate analysis"
      ]
    },
    {
      "cell_type": "markdown",
      "metadata": {
        "id": "ppl1iQViuno5"
      },
      "source": [
        "#### Observations on temperature"
      ]
    },
    {
      "cell_type": "code",
      "execution_count": null,
      "metadata": {
        "colab": {
          "base_uri": "https://localhost:8080/",
          "height": 611
        },
        "id": "O9cQBWRAuno5",
        "outputId": "3f7e428c-0dd5-4575-8849-c7a2625b08c3"
      },
      "outputs": [],
      "source": [
        "histogram_boxplot(df, \"temp\")"
      ]
    },
    {
      "cell_type": "markdown",
      "metadata": {
        "id": "JF5SoLJYuno5"
      },
      "source": [
        "- The temperature has an approx symmetric distribution with mean and median equal to 0.5\n",
        "- As evident from the boxplot, there are no outliers in the distribution for this variable"
      ]
    },
    {
      "cell_type": "markdown",
      "metadata": {
        "id": "T8d98mQhuno5"
      },
      "source": [
        "#### Observations on 'feel like temperature"
      ]
    },
    {
      "cell_type": "code",
      "execution_count": null,
      "metadata": {
        "colab": {
          "base_uri": "https://localhost:8080/",
          "height": 611
        },
        "id": "8VFN3Q9nuno5",
        "outputId": "305276c9-5b4d-4c6f-97c6-f7527f0ff1c3"
      },
      "outputs": [],
      "source": [
        "histogram_boxplot(df, \"atemp\")"
      ]
    },
    {
      "cell_type": "markdown",
      "metadata": {
        "id": "dWuWMBdhuno5"
      },
      "source": [
        "- Same as temperature, the distribution for feel like the temperature is also symmetrically distributed\n",
        "- There are no outliers in the distribution of these variables"
      ]
    },
    {
      "cell_type": "code",
      "execution_count": null,
      "metadata": {
        "colab": {
          "base_uri": "https://localhost:8080/",
          "height": 611
        },
        "id": "2VCE_UfZuno5",
        "outputId": "e50c22ab-cdb9-49a5-b923-8a7c2bb2de83"
      },
      "outputs": [],
      "source": [
        "histogram_boxplot(df,\"hum\")"
      ]
    },
    {
      "cell_type": "markdown",
      "metadata": {
        "id": "pnthSFObuno5"
      },
      "source": [
        "- Most of the values are concentrated in the middle i.e. 0.4 to 0.8\n",
        "- Humidity with the value equal to 0 is an outlier\n",
        "- The distribution is approx normally distributed with mean and median equal to 0.63"
      ]
    },
    {
      "cell_type": "code",
      "execution_count": null,
      "metadata": {
        "colab": {
          "base_uri": "https://localhost:8080/",
          "height": 611
        },
        "id": "-j7F6QuKuno5",
        "outputId": "d33707b8-f1d3-4c77-861b-f2a6337b3427"
      },
      "outputs": [],
      "source": [
        "histogram_boxplot(df,'windspeed')"
      ]
    },
    {
      "cell_type": "markdown",
      "metadata": {
        "id": "PLcc6MPJuno5"
      },
      "source": [
        "- Wind speed has a right-skewed distribution and 0 has the highest count among all observations\n",
        "- Distribution is not symmetric but mean and median are approx equal with a value equal to 0.19\n",
        "- There are many outliers in this variable"
      ]
    },
    {
      "cell_type": "code",
      "execution_count": null,
      "metadata": {
        "colab": {
          "base_uri": "https://localhost:8080/",
          "height": 611
        },
        "id": "x5dzB7Jauno6",
        "outputId": "678a3977-dff4-45a6-fd2b-6af1ed611b13"
      },
      "outputs": [],
      "source": [
        "histogram_boxplot(df,'cnt')"
      ]
    },
    {
      "cell_type": "code",
      "execution_count": null,
      "metadata": {
        "colab": {
          "base_uri": "https://localhost:8080/"
        },
        "id": "99QIgW5-uno6",
        "outputId": "aba007db-46a6-4e4f-99af-31dbf8ebb017"
      },
      "outputs": [],
      "source": [
        "#Top 5 highest values\n",
        "df['cnt'].nlargest()"
      ]
    },
    {
      "cell_type": "markdown",
      "metadata": {
        "id": "-1xly4fuuno6"
      },
      "source": [
        "- The target variable i.e. the count of bikes rented has a right-skewed distribution\n",
        "- The range of values is very large with many observations being less than 10 counts and some being greater than 900 count\n",
        "- As evident from the boxplot, there are many outliers"
      ]
    },
    {
      "cell_type": "code",
      "execution_count": null,
      "metadata": {
        "colab": {
          "base_uri": "https://localhost:8080/",
          "height": 313
        },
        "id": "g_QKU3VBuno6",
        "outputId": "5b9963f3-88fc-4280-fc13-48c156a89a5b"
      },
      "outputs": [],
      "source": [
        "labeled_barplot(df, \"hr\",perc=True)"
      ]
    },
    {
      "cell_type": "markdown",
      "metadata": {
        "id": "k3bnAoKeuno6"
      },
      "source": [
        "- Each hour i.e. 0 to 23 has approx 4% observations in the data"
      ]
    },
    {
      "cell_type": "code",
      "execution_count": null,
      "metadata": {
        "colab": {
          "base_uri": "https://localhost:8080/",
          "height": 403
        },
        "id": "_W2NeHO4uno6",
        "outputId": "ab139bf9-4156-4ccf-e4c9-9edb25be1eef"
      },
      "outputs": [],
      "source": [
        "labeled_barplot(df,'mnth',perc=True)"
      ]
    },
    {
      "cell_type": "markdown",
      "metadata": {
        "id": "R55_DgFIuno6"
      },
      "source": [
        "- Each month i.e. 1 to 12 has approx 8.5% observations in the data\n",
        "- Month 2 has slightly less number of observations compared to other months"
      ]
    },
    {
      "cell_type": "code",
      "execution_count": null,
      "metadata": {
        "colab": {
          "base_uri": "https://localhost:8080/",
          "height": 393
        },
        "id": "g3m4QLbfuno6",
        "outputId": "c47de24d-7544-47da-f6fd-a6242b1d337b"
      },
      "outputs": [],
      "source": [
        "labeled_barplot(df,'season',perc=True)"
      ]
    },
    {
      "cell_type": "markdown",
      "metadata": {
        "id": "ml4jM4pouno6"
      },
      "source": [
        "- Each season has approx 24% observations in the data"
      ]
    },
    {
      "cell_type": "code",
      "execution_count": null,
      "metadata": {
        "colab": {
          "base_uri": "https://localhost:8080/",
          "height": 393
        },
        "id": "bP-4If5-uno6",
        "outputId": "70c50b6f-11e1-4303-81aa-308e9078b28d"
      },
      "outputs": [],
      "source": [
        "labeled_barplot(df,'yr',perc=True)"
      ]
    },
    {
      "cell_type": "markdown",
      "metadata": {
        "id": "0ncv9QTZuno6"
      },
      "source": [
        "- Both years have approx equal number of observations in the data"
      ]
    },
    {
      "cell_type": "code",
      "execution_count": null,
      "metadata": {
        "colab": {
          "base_uri": "https://localhost:8080/",
          "height": 393
        },
        "id": "G5HbLS5uuno6",
        "outputId": "8dbbb9b2-7cab-46d5-9d0c-328e02b6338a"
      },
      "outputs": [],
      "source": [
        "labeled_barplot(df,'weathersit',perc=True)"
      ]
    },
    {
      "cell_type": "markdown",
      "metadata": {
        "id": "EEXJUbbnuno6"
      },
      "source": [
        "- Season 1 has the highest percentage of observations i.e. 65.7%\n",
        "- Season 2 and season 3 have 26.1% and 8.2% observations respectively\n",
        "- We saw earlier that season 4 has only 3 observations in the data. Here, it shows 0% observations due to rounding off."
      ]
    },
    {
      "cell_type": "code",
      "execution_count": null,
      "metadata": {
        "colab": {
          "base_uri": "https://localhost:8080/",
          "height": 393
        },
        "id": "V9OyysFzuno7",
        "outputId": "f6d67047-b531-4e61-9187-a1949fae88b1"
      },
      "outputs": [],
      "source": [
        "labeled_barplot(df,'holiday',perc=True)"
      ]
    },
    {
      "cell_type": "markdown",
      "metadata": {
        "id": "zDNWVOk0uno7"
      },
      "source": [
        "- As expected the percentage for non-holidays is much more than holidays.\n",
        "- There are 97% non-holidays observations and only 3% for holidays"
      ]
    },
    {
      "cell_type": "code",
      "execution_count": null,
      "metadata": {
        "colab": {
          "base_uri": "https://localhost:8080/",
          "height": 393
        },
        "id": "0NAnCx_6uno7",
        "outputId": "891ffcf1-b041-4321-db9b-e62e1e1da68c"
      },
      "outputs": [],
      "source": [
        "labeled_barplot(df,'weekday',perc=True)"
      ]
    },
    {
      "cell_type": "markdown",
      "metadata": {
        "id": "_CMAY0ZQuno7"
      },
      "source": [
        "- Each weekday i.e. 0 to 6 has approx 14% observations in the data."
      ]
    },
    {
      "cell_type": "code",
      "execution_count": null,
      "metadata": {
        "colab": {
          "base_uri": "https://localhost:8080/",
          "height": 393
        },
        "id": "MymXnIabuno7",
        "outputId": "ede0d7e1-4612-46a3-a788-797299ca9ad8"
      },
      "outputs": [],
      "source": [
        "labeled_barplot(df,'workingday',perc=True)"
      ]
    },
    {
      "cell_type": "markdown",
      "metadata": {
        "id": "I2sqtZqTuno7"
      },
      "source": [
        "- As expected, the number of observations for working days is higher than the number of observations for non-working days.\n",
        "- There are approx 68% observations for working days and 32% observations for non-working days."
      ]
    },
    {
      "cell_type": "markdown",
      "metadata": {
        "id": "O0P2rJDMuno7"
      },
      "source": [
        "### Bivariate analysis"
      ]
    },
    {
      "cell_type": "code",
      "execution_count": null,
      "metadata": {
        "colab": {
          "base_uri": "https://localhost:8080/",
          "height": 397
        },
        "id": "ljaYdgQ_uno7",
        "outputId": "f3515089-c66a-415d-d931-a93c2257b667"
      },
      "outputs": [],
      "source": [
        "sns.set(rc={'figure.figsize':(21,7)})\n",
        "sns.catplot(x=\"season\", y=\"cnt\", kind=\"swarm\", data=df, height=7, aspect=3);"
      ]
    },
    {
      "cell_type": "markdown",
      "metadata": {
        "id": "BWsli1-Kuno7"
      },
      "source": [
        "- The lowest number of bikes are rented in the first season\n",
        "- The highest number of bikes are shared in 3rd season\n",
        "- This can be due to the relatively high temperature in season 1 i.e. spring as compared to season 3 i.e. fall"
      ]
    },
    {
      "cell_type": "code",
      "execution_count": null,
      "metadata": {
        "colab": {
          "base_uri": "https://localhost:8080/",
          "height": 397
        },
        "id": "HJ8Q_eKluno7",
        "outputId": "f0f74b1c-a9f5-40f7-ba07-29b14b659683"
      },
      "outputs": [],
      "source": [
        "sns.set(rc={'figure.figsize':(21,7)})\n",
        "sns.catplot(x=\"weekday\", y=\"cnt\", kind=\"swarm\", data=df, height=7, aspect=3);"
      ]
    },
    {
      "cell_type": "markdown",
      "metadata": {
        "id": "PE1fs0V4uno7"
      },
      "source": [
        "- Weekends i.e. weekday=0 and weekday=6 have a low count of bikes rented and it is less varying.\n",
        "- Working days have a higher count of bikes rented and have more variation in the count and there are some outliers for days from 1 to 5.\n",
        "- This can be due to closed schools/offices on weekends."
      ]
    },
    {
      "cell_type": "code",
      "execution_count": null,
      "metadata": {
        "colab": {
          "base_uri": "https://localhost:8080/",
          "height": 301
        },
        "id": "-qR7VYsCuno7",
        "outputId": "16c4d80f-a21d-48b1-f8ed-e1ad72010c98"
      },
      "outputs": [],
      "source": [
        "sns.pairplot(\n",
        "    df,\n",
        "    x_vars=[\"windspeed\", \"temp\", \"hum\"],\n",
        "    y_vars=[\"cnt\"],\n",
        "    height=4,\n",
        "    aspect=1\n",
        "    );"
      ]
    },
    {
      "cell_type": "markdown",
      "metadata": {
        "id": "DDjz7qOJuno7"
      },
      "source": [
        "- We can see that count of bikes rented is low when the temperature is very low or very high. The same is true for humidity.\n",
        "- Count of bikes rented is high when wind speed is low."
      ]
    },
    {
      "cell_type": "code",
      "execution_count": null,
      "metadata": {
        "colab": {
          "base_uri": "https://localhost:8080/",
          "height": 509
        },
        "id": "9EBu8JZEuno7",
        "outputId": "99967380-c64d-4a7c-f108-7be7240e3fde"
      },
      "outputs": [],
      "source": [
        "sns.catplot(x=\"hr\", y=\"cnt\", data=df, kind='bar', height=7, aspect=1.5, estimator=np.mean);"
      ]
    },
    {
      "cell_type": "markdown",
      "metadata": {
        "id": "yhpIejOuuno8"
      },
      "source": [
        "- We can see the average number of bikes rented is high at 8 AM and 5-6 PM, this can be due to office/school/college timings.\n",
        "- The average number of bikes rented is very low for night time i.e. 12 AM to 5 AM."
      ]
    },
    {
      "cell_type": "code",
      "execution_count": null,
      "metadata": {
        "colab": {
          "base_uri": "https://localhost:8080/",
          "height": 437
        },
        "id": "0_fHEbg6uno8",
        "outputId": "8f56cc74-bd93-4519-bca2-9106fdcc8701"
      },
      "outputs": [],
      "source": [
        "sns.catplot(x=\"mnth\", y=\"cnt\", data=df, kind='bar', height=6, aspect=1.6, estimator=np.mean);"
      ]
    },
    {
      "cell_type": "markdown",
      "metadata": {
        "id": "PYAHuHbRuno8"
      },
      "source": [
        "- The average number of bikes rented is low for months - December, January, February. This can be due to the cold weather in these months.\n",
        "- The average number of bikes rented is consistently high for months from May to October."
      ]
    },
    {
      "cell_type": "code",
      "execution_count": null,
      "metadata": {
        "colab": {
          "base_uri": "https://localhost:8080/",
          "height": 437
        },
        "id": "MPYSScppuno8",
        "outputId": "bd65053a-da2c-4864-f29b-1f011850919b"
      },
      "outputs": [],
      "source": [
        "sns.catplot(x=\"yr\", y=\"cnt\", data=df, kind='bar', size=6, aspect=1.5, estimator=np.mean);"
      ]
    },
    {
      "cell_type": "markdown",
      "metadata": {
        "id": "yfYkn8FNuno8"
      },
      "source": [
        "- The average count of bikes rented is high for the year 2012 as compared to 2011.\n",
        "- Let's check this for each season of both years and observe if the count in each season has increased or in just 1 or 2 seasons."
      ]
    },
    {
      "cell_type": "code",
      "execution_count": null,
      "metadata": {
        "colab": {
          "base_uri": "https://localhost:8080/",
          "height": 468
        },
        "id": "Ox1hoZf7uno8",
        "outputId": "cd0c0dbd-07e6-439f-abce-58abce577b9d"
      },
      "outputs": [],
      "source": [
        "sns.set(rc={'figure.figsize':(15,7)})\n",
        "pd.pivot_table(data=df, index=['yr', 'season'], values='cnt', aggfunc=np.sum).plot(kind='bar');"
      ]
    },
    {
      "cell_type": "markdown",
      "metadata": {
        "id": "ChxMM1-Auno8"
      },
      "source": [
        "- We can see that number of bikes rented is higher in the year 2012 for each season as compared to seasons in 2011.\n",
        "- This shows that bike-sharing is becoming more popular with time."
      ]
    },
    {
      "cell_type": "code",
      "execution_count": null,
      "metadata": {
        "colab": {
          "base_uri": "https://localhost:8080/",
          "height": 437
        },
        "id": "KUEKaJxhuno8",
        "outputId": "0f6c2b4a-bb3b-4126-b2e2-223b93f40a39"
      },
      "outputs": [],
      "source": [
        "sns.catplot(x=\"weathersit\", y='cnt', kind='bar', data=df, size=6, aspect=1.25, estimator=np.mean);"
      ]
    },
    {
      "cell_type": "markdown",
      "metadata": {
        "id": "xrSB8wlcuno8"
      },
      "source": [
        "- As expected, the average count of bikes rented is much higher on clear or partly cloudy days compared to snowy or rainy days.\n",
        "- This implies that the average count of bikes rented is hugely affected by the weather."
      ]
    },
    {
      "cell_type": "code",
      "execution_count": null,
      "metadata": {
        "colab": {
          "base_uri": "https://localhost:8080/",
          "height": 648
        },
        "id": "IMlU93qMuno8",
        "outputId": "82fef01a-726a-4cc1-d9e0-79665d2a04a4"
      },
      "outputs": [],
      "source": [
        "sns.set(rc={'figure.figsize':(16,10)})\n",
        "sns.heatmap(df.corr(),\n",
        "            annot=True,\n",
        "            linewidths=.5,\n",
        "            center=0,\n",
        "            cbar=False,\n",
        "            cmap=\"Spectral\")\n",
        "plt.show()"
      ]
    },
    {
      "cell_type": "markdown",
      "metadata": {
        "id": "vQ0Yl48ouno8"
      },
      "source": [
        "- We can see that temperature and feel like temperature are almost perfectly correlated\n",
        "- Month and season have a high positive correlation among them\n",
        "- As count is the addition of two columns - Casual and registered. We can drop these two columns because if we have casual and registered count then making a model won't make sense as we can simply add them. We would not have these 2 columns while predicting new observations"
      ]
    },
    {
      "cell_type": "markdown",
      "metadata": {
        "id": "b7z7vXRyuno9"
      },
      "source": [
        "### To jump back to the EDA summary section, click <a href = #link2>here</a>."
      ]
    }
  ],
  "metadata": {
    "colab": {
      "collapsed_sections": [
        "SyFLAFFxpke7",
        "cF6jj7mGqDcV",
        "lnYU6n7wqFvh",
        "oUTSkXOZpkfC",
        "ptvrb3uIqXJC",
        "CHr021zhpkfD",
        "609z-Rg8pkfL",
        "ND-xRlT0sO-Q",
        "_gXSeD7fsonV",
        "t1qLz_lipkfP",
        "ltFoTTimpkfQ",
        "lXLBfLUGpkfQ",
        "ra1li3uypkfR",
        "4cjAcN7LpkfS",
        "o8GgdCFTpkfT",
        "_M7GLyjOpkfV",
        "GZw_di98pkfV",
        "SlRV-tn-pkfW",
        "J0LI-9gKpkfX",
        "AbxL7YlzpkfY",
        "4lhC3dUipkfZ",
        "cnXZB3wLpkfa",
        "0_kkgb5Opkfc",
        "bzcOIbGWpkfd",
        "WcNnZbs3pkfe",
        "pQawen1puuTC",
        "L3b1KDhjuno4",
        "ppl1iQViuno5",
        "T8d98mQhuno5",
        "O0P2rJDMuno7"
      ],
      "provenance": []
    },
    "kernelspec": {
      "display_name": "venvEasyVista",
      "language": "python",
      "name": "python3"
    },
    "language_info": {
      "codemirror_mode": {
        "name": "ipython",
        "version": 3
      },
      "file_extension": ".py",
      "mimetype": "text/x-python",
      "name": "python",
      "nbconvert_exporter": "python",
      "pygments_lexer": "ipython3",
      "version": "3.13.2"
    }
  },
  "nbformat": 4,
  "nbformat_minor": 0
}
